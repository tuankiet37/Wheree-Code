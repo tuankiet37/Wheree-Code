{
 "cells": [
  {
   "cell_type": "code",
   "execution_count": 3,
   "metadata": {},
   "outputs": [],
   "source": [
    "import pandas as pd\n",
    "import re\n",
    "import datetime\n",
    "from tqdm import tqdm\n",
    "import os\n",
    "import csv"
   ]
  },
  {
   "cell_type": "code",
   "execution_count": 4,
   "metadata": {},
   "outputs": [],
   "source": [
    "def convert_hour(hour):\n",
    "    hours_dict = {}\n",
    "    entries = hour.split(\"; \")\n",
    "    weekdays = ['Monday', 'Tuesday', 'Wednesday', 'Thursday', 'Friday', 'Saturday', 'Sunday']\n",
    "    if len(entries) == 1 and '-' in entries[0]:\n",
    "        hour_string = entries[0]\n",
    "        if \"Open 24 hours\" in hour_string:\n",
    "            for day in weekdays:\n",
    "                hours_dict[day] = [['00:01', 'AM', '23:59', 'PM']]\n",
    "        else:\n",
    "            times = re.findall(r'\\d{1,2}:\\d{2}', hour_string)\n",
    "            hour_types = re.findall(r'\\b(?:AM|PM)\\b', hour_string)\n",
    "\n",
    "            if times and len(times) == 2:\n",
    "                opening_time = datetime.datetime.strptime(times[0], '%H:%M')\n",
    "                opening_hour = opening_time.strftime('%I:%M')\n",
    "                closing_time = datetime.datetime.strptime(times[1], '%H:%M')\n",
    "                closing_hour = closing_time.strftime('%I:%M')\n",
    "\n",
    "                # If the time doesn't include AM/PM, add them based on 24-hour time\n",
    "                if not hour_types:\n",
    "                    opening_type = 'PM' if int(times[0].split(':')[0]) >= 12 else 'AM'\n",
    "                    closing_type = 'PM' if int(times[1].split(':')[0]) >= 12 else 'AM'\n",
    "                else:\n",
    "                    opening_type = hour_types[0]\n",
    "                    closing_type = hour_types[1]\n",
    "\n",
    "                # Assign the same time for each day from Monday to Saturday\n",
    "                for day in ['Monday', 'Tuesday', 'Wednesday', 'Thursday', 'Friday', 'Saturday']:\n",
    "                    hours_dict[day] = [[opening_hour, opening_type, closing_hour, closing_type]]\n",
    "    else:\n",
    "        # Handle the case where there are multiple day-specific entries with potential multiple ranges per day\n",
    "        for entry in entries:\n",
    "            match = re.match(r\"(?P<day>[A-Za-z\\s\\(\\)]+),\\s*(?P<time>.+)\", entry)\n",
    "            if match:\n",
    "                day = match.group(\"day\").strip()\n",
    "                day =  day.split(' ')[0]\n",
    "                time_string = match.group(\"time\").strip()\n",
    "\n",
    "                if \"Open 24 hours\" in time_string:\n",
    "                    hours_dict[day] = [['00:01', 'AM', '23:59', 'PM']]\n",
    "                else:\n",
    "                    # Split the time ranges for the day\n",
    "                    time_ranges = time_string.split(\", \")\n",
    "                    time_list = []\n",
    "\n",
    "                    for time_range in time_ranges:\n",
    "                        times = re.findall(r'\\d{1,2}(?::\\d{2})?', time_range)\n",
    "                        hour_types = re.findall(r'\\b(?:AM|PM)\\b', time_range)\n",
    "\n",
    "                        if times and len(times) == 2:\n",
    "                            # Parsing opening time\n",
    "                            opening_time = datetime.datetime.strptime(times[0], '%I:%M' if ':' in times[0] else '%I')\n",
    "                            opening_hour = opening_time.strftime('%I:%M')\n",
    "                            opening_type = hour_types[0] if hour_types else opening_time.strftime('%p')\n",
    "\n",
    "                            # Parsing closing time\n",
    "                            closing_time = datetime.datetime.strptime(times[1], '%I:%M' if ':' in times[1] else '%I')\n",
    "                            closing_hour = closing_time.strftime('%I:%M')\n",
    "                            closing_type = hour_types[1] if len(hour_types) > 1 else closing_time.strftime('%p')\n",
    "\n",
    "                            # Append this time range to the list for the day\n",
    "                            time_list.append([opening_hour, opening_type, closing_hour, closing_type])\n",
    "\n",
    "                    # Add the list of time ranges to the dictionary for the day\n",
    "                    hours_dict[day] = time_list\n",
    "\n",
    "    hours_dict = {day: hours_dict[day] for day in weekdays if day in hours_dict}\n",
    "\n",
    "    return hours_dict"
   ]
  },
  {
   "cell_type": "code",
   "execution_count": 5,
   "metadata": {},
   "outputs": [],
   "source": [
    "\n",
    "source_path = r\"D:\\DATA\\2024\\Oct\\Output\\Thu cong\\11_10_2024_main_hour_(success).csv\"\n",
    "success_path = r\"D:\\DATA\\2024\\Oct\\Output\\Thu cong\\11_10_2024_hour.csv\"\n",
    "\n",
    "df = pd.read_csv(source_path)"
   ]
  },
  {
   "cell_type": "code",
   "execution_count": 6,
   "metadata": {},
   "outputs": [
    {
     "name": "stdout",
     "output_type": "stream",
     "text": [
      "301\n",
      "263\n"
     ]
    }
   ],
   "source": [
    "print(df['code'].nunique())\n",
    "df = df.dropna(subset=['hour'])\n",
    "print(df['code'].nunique())"
   ]
  },
  {
   "cell_type": "code",
   "execution_count": 7,
   "metadata": {},
   "outputs": [],
   "source": [
    "def process_row(row):\n",
    "    hours_dict = convert_hour(row['hour'])\n",
    "    sorted_dict = dict(sorted(hours_dict.items(), key=lambda x: datetime.datetime.strptime(x[0], '%A')))\n",
    "    results = []\n",
    "\n",
    "    for day, time_ranges in sorted_dict.items():\n",
    "        for time_range in time_ranges:\n",
    "            if time_range is None:\n",
    "                continue\n",
    "            opening_time = time_range[0]\n",
    "            opening_period = time_range[1]\n",
    "            closing_time = time_range[2]\n",
    "            closing_period = time_range[3]\n",
    "            result_entry = {\n",
    "                'code': row['code'],\n",
    "                'day': day,\n",
    "                'openingHour': opening_time,\n",
    "                'openingType': opening_period,\n",
    "                'closingHour': closing_time,\n",
    "                'closingType': closing_period,\n",
    "                'orignalname': row['orignalname'],\n",
    "            }\n",
    "            results.append(result_entry)\n",
    "    \n",
    "    return results"
   ]
  },
  {
   "cell_type": "code",
   "execution_count": 8,
   "metadata": {},
   "outputs": [
    {
     "name": "stderr",
     "output_type": "stream",
     "text": [
      "100%|██████████| 263/263 [00:00<00:00, 5157.19it/s]\n"
     ]
    }
   ],
   "source": [
    "tqdm.pandas()\n",
    "df['hours_results'] = df.progress_apply(process_row, axis=1)\n",
    "\n",
    "hours_result = [item for sublist in df['hours_results'] for item in sublist]\n",
    "\n",
    "hours_result =  pd.DataFrame(hours_result)\n",
    "hours_result.to_csv(success_path, index=False)"
   ]
  }
 ],
 "metadata": {
  "kernelspec": {
   "display_name": "Python 3",
   "language": "python",
   "name": "python3"
  },
  "language_info": {
   "codemirror_mode": {
    "name": "ipython",
    "version": 3
   },
   "file_extension": ".py",
   "mimetype": "text/x-python",
   "name": "python",
   "nbconvert_exporter": "python",
   "pygments_lexer": "ipython3",
   "version": "3.12.4"
  }
 },
 "nbformat": 4,
 "nbformat_minor": 2
}
