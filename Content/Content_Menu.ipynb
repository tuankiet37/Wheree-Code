{
  "cells": [
    {
      "cell_type": "markdown",
      "metadata": {
        "id": "DBVgNY4DuKPu"
      },
      "source": [
        "# Lib"
      ]
    },
    {
      "cell_type": "code",
      "execution_count": 1,
      "metadata": {
        "id": "5V5budo6kPkn"
      },
      "outputs": [],
      "source": [
        "import pandas as pd\n",
        "import csv\n",
        "import os\n",
        "import re\n",
        "from tqdm import tqdm\n",
        "import multiprocessing\n",
        "from concurrent.futures import ProcessPoolExecutor, as_completed\n",
        "import openai"
      ]
    },
    {
      "cell_type": "markdown",
      "metadata": {
        "id": "rxBuRbLQxIvW"
      },
      "source": [
        "# Function"
      ]
    },
    {
      "cell_type": "code",
      "execution_count": 2,
      "metadata": {
        "id": "moSWXTkWk3op"
      },
      "outputs": [],
      "source": [
        "def prepare_file(file_path, file_header):\n",
        "    try:\n",
        "        if not os.path.exists(file_path) or os.path.getsize(file_path) == 0:\n",
        "            with open(file_path, 'w', newline='') as file:\n",
        "                file.write(file_header)\n",
        "        print(f\"Crawler - {file_path} - File path checking completed.\")\n",
        "    except Exception as e:\n",
        "        print(f\"Crawler - File path error..!! - {file_header} - {e}\")"
      ]
    },
    {
      "cell_type": "code",
      "execution_count": 3,
      "metadata": {
        "id": "F2eOlxa8mhF8"
      },
      "outputs": [],
      "source": [
        "write_lock = multiprocessing.Lock()\n",
        "def writeMainInfo(result_entry: dict, file_name: str) -> None:\n",
        "    try:\n",
        "        with write_lock:\n",
        "            with open(file_name, mode='a', newline='', encoding='utf-8') as file:\n",
        "                writer = csv.DictWriter(f=file, quoting=csv.QUOTE_MINIMAL, fieldnames=result_entry.keys())\n",
        "                writer.writerow(result_entry)\n",
        "    except Exception as e:\n",
        "        print(f'Crawler - FAILED at \"writeMainInfo()\" - {e}.')"
      ]
    },
    {
      "cell_type": "code",
      "execution_count": 4,
      "metadata": {
        "id": "sKNrDbejmm1_"
      },
      "outputs": [],
      "source": [
        "def collectRecordsTobeChecked(success_path: str, df_source: str, header: str) -> pd.DataFrame:\n",
        "    try:\n",
        "        prepare_file(success_path, header)\n",
        "        # df_source = pd.read_csv(source_path,on_bad_lines=\"skip\",engine='python', quotechar='\"')\n",
        "        df_success = pd.read_csv(success_path,on_bad_lines=\"skip\",engine='python', quotechar='\"') if os.path.exists(success_path) else pd.DataFrame(columns=['code'])\n",
        "        df_success = df_success[df_success['type'] =='MENU.S34.P1.C1']\n",
        "        # processing_df = df_source[len(df_success)+1::]\n",
        "        processing_df = df_source[~df_source['code'].isin(set(df_success['code']))]\n",
        "\n",
        "        print(f\"Total batch records: {len(df_source)} records, \"\n",
        "                        f\"Skipped: {len(df_source)-len(processing_df)} records, \"\n",
        "                        f\"Ordered to be processed: {len(processing_df)}\")\n",
        "\n",
        "        return processing_df\n",
        "\n",
        "    except Exception as e:\n",
        "        print(f\"Crawler - FAILED at 'collectRecordsTobeChecked()' - {e}.\")\n",
        "        return pd.DataFrame()"
      ]
    },
    {
      "cell_type": "code",
      "execution_count": 5,
      "metadata": {},
      "outputs": [],
      "source": [
        "def promptGPT(prompt, api_key, base_url):\n",
        "    client = openai.OpenAI(\n",
        "    api_key= api_key,\n",
        "    base_url= base_url\n",
        "    )\n",
        "    response = client.chat.completions.create(\n",
        "        model=\"gpt-4o-mini\",\n",
        "        max_tokens=300,\n",
        "        messages=[\n",
        "            {\n",
        "                \"role\": \"user\",\n",
        "                \"content\": prompt\n",
        "            }\n",
        "        ],\n",
        "        n=1,   \n",
        "    )\n",
        "    return response\n"
      ]
    },
    {
      "cell_type": "markdown",
      "metadata": {
        "id": "JloFMNwk0bak"
      },
      "source": [
        "# Content"
      ]
    },
    {
      "cell_type": "code",
      "execution_count": 6,
      "metadata": {},
      "outputs": [],
      "source": [
        "def prompt_menu(review, name, address):\n",
        "    prompt = f\"\"\"\n",
        "    You are an expert in SEO content writing with a focus on creating engaging and informative content for websites. \n",
        "    Your task is to write a concise and compelling content about 'menu photo' page description for the given BRAND, using customer reviews as your primary source of information.\n",
        "\n",
        "    Instructions:\n",
        "\n",
        "    Content Overview: Introduce about 180 words to introdruce people about the menu and food, drink of the brand. Do not include any negative information. Do not write about anything else that the brand dont have. \n",
        "    Avoiding Negative side of reviews and focus only on the menu, Food, drink. Dont write about anything else\n",
        "    SEO Compliance: Follow SEO best practices to ensure the content is optimized for search engines. Follow the best practices for writing page content.\n",
        "    Length: Write between 180 to 200 words.\n",
        "    Language Use: Avoid using the words \"we\", \"our\", \"us\", \"they\", \"their\", and \"them\" to maintain a neutral tone. Write as third-person narrative, who is an expert in SEO content writing.\n",
        "    Must follow the instructions and write the content as per the guidelines provided. Dont return the intro like \"**Menu Page Description for El Colomaniano**\".\n",
        "\n",
        "    The BRAND name and customer reviews will be provided below:\n",
        "\n",
        "    BRAND: {name}\n",
        "    BRAND_ADDRESS: {address}\n",
        "    Reviews: {review}\n",
        "    Generate content that captures the essence of the BRAND as described in the reviews, emphasizing key highlights and unique aspects. If BRAND has another language format follwoing another language (english name)\"\"\"\n",
        "    return prompt"
      ]
    },
    {
      "cell_type": "code",
      "execution_count": 7,
      "metadata": {},
      "outputs": [],
      "source": [
        "def process_row(index_row):\n",
        "    index, row = index_row\n",
        "    review = row['content'] if 'content' in row else (row['reviews'] if 'reviews' in row else row['review'])\n",
        "\n",
        "    \n",
        "\n",
        "    review = \" \".join(review.split(' ')[:min(max_word, len(review.split(' ')))])\n",
        "    name = row['name']\n",
        "    address = row['address']\n",
        "    \n",
        "    prompt = prompt_menu(review, name, address)\n",
        "    content_type = 'MENU.S34.P1.C1'\n",
        "    response = promptGPT(prompt, api_key, base_url)\n",
        "    result_dict = dict(response)\n",
        "    choices= result_dict['choices']\n",
        "    content = choices[0].message.content\n",
        "    \n",
        "    # content = promptGemini(prompt, api_keys)\n",
        "    if content is not None:\n",
        "        content = content.replace('\\n', '')\n",
        "        result = {\n",
        "            'code': row['code'],\n",
        "            'content': content,\n",
        "            'type': content_type,\n",
        "            'input_token': result_dict['usage'].prompt_tokens,\n",
        "            'output_token': result_dict['usage'].completion_tokens\n",
        "        }\n",
        "        writeMainInfo(result, success_path)\n",
        "    else:\n",
        "        return False"
      ]
    },
    {
      "cell_type": "code",
      "execution_count": 8,
      "metadata": {},
      "outputs": [],
      "source": [
        "api_key = 'YOUR_API_KEY'\n",
        "base_url=\"https://open.keyai.shop/v1\""
      ]
    },
    {
      "cell_type": "code",
      "execution_count": 14,
      "metadata": {},
      "outputs": [
        {
          "name": "stderr",
          "output_type": "stream",
          "text": [
            "C:\\Users\\Admin\\AppData\\Local\\Temp\\ipykernel_14272\\268475497.py:6: DtypeWarning: Columns (3) have mixed types. Specify dtype option on import or set low_memory=False.\n",
            "  main_df = pd.read_csv(r\"D:\\DATA\\2024\\Sep\\Combine\\10_10_2024\\main.csv\")\n"
          ]
        },
        {
          "name": "stdout",
          "output_type": "stream",
          "text": [
            "Crawler - D:\\DATA\\2024\\Sep\\Combine\\10_10_2024\\menu_content.csv - File path checking completed.\n",
            "Total batch records: 34647 records, Skipped: 34647 records, Ordered to be processed: 0\n"
          ]
        }
      ],
      "source": [
        "source_path = r\"D:\\DATA\\2024\\Sep\\Combine\\10_10_2024\\grouped_reviews.csv\"\n",
        "success_path = r\"D:\\DATA\\2024\\Sep\\Combine\\10_10_2024\\menu_content.csv\"\n",
        "header = 'code,content,type,input_token,output_token\\n'\n",
        "\n",
        "\n",
        "main_df = pd.read_csv(r\"D:\\DATA\\2024\\Sep\\Combine\\10_10_2024\\main.csv\")\n",
        "img_df = pd.read_csv(r\"D:\\DATA\\2024\\Sep\\Combine\\10_10_2024\\img.csv\")\n",
        "img_df = img_df[img_df['type'] == 'MENU']\n",
        "img_df.drop_duplicates(subset=['code'], keep='first', inplace=True)\n",
        "map_name = dict(zip(main_df['code'], main_df['orignalname']))\n",
        "map_address = dict(zip(main_df['code'], main_df['fulladdress']))\n",
        "\n",
        "df = pd.read_csv(source_path)\n",
        "df.drop_duplicates(subset=['code'], keep='first', inplace=True)\n",
        "df = df[df['code'].isin(img_df['code'])]\n",
        "\n",
        "# df.drop_duplicates(subset=['code'], keep='first', inplace=True)\n",
        "df =  collectRecordsTobeChecked(success_path, df, header)\n",
        "df['name'] = df['code'].map(map_name)\n",
        "df['address'] = df['code'].map(map_address)\n",
        "max_word = 500"
      ]
    },
    {
      "cell_type": "code",
      "execution_count": 13,
      "metadata": {},
      "outputs": [
        {
          "name": "stderr",
          "output_type": "stream",
          "text": [
            "Processing Reviews: 100%|██████████| 9/9 [00:25<00:00,  2.85s/it]\n"
          ]
        }
      ],
      "source": [
        "with ProcessPoolExecutor(max_workers=1) as executor:\n",
        "    futures = [executor.submit(process_row, index_row) for index_row in df.iterrows()]\n",
        "\n",
        "    # Use tqdm with as_completed for progress tracking\n",
        "    for future in tqdm(as_completed(futures), total=len(futures), desc=\"Processing Reviews\"):\n",
        "        try:\n",
        "            result = future.result()  # Get the result from the future, or handle it if needed\n",
        "        except Exception as e:\n",
        "            #print(f\"Error: {e}\")\n",
        "            pass"
      ]
    },
    {
      "cell_type": "code",
      "execution_count": null,
      "metadata": {},
      "outputs": [],
      "source": []
    }
  ],
  "metadata": {
    "colab": {
      "provenance": []
    },
    "kernelspec": {
      "display_name": "myenv",
      "language": "python",
      "name": "python3"
    },
    "language_info": {
      "codemirror_mode": {
        "name": "ipython",
        "version": 3
      },
      "file_extension": ".py",
      "mimetype": "text/x-python",
      "name": "python",
      "nbconvert_exporter": "python",
      "pygments_lexer": "ipython3",
      "version": "3.10.14"
    }
  },
  "nbformat": 4,
  "nbformat_minor": 0
}
